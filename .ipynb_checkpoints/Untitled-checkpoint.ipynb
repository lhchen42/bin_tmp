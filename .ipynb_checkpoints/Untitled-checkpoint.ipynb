{
 "cells": [
  {
   "cell_type": "code",
   "execution_count": 1,
   "metadata": {},
   "outputs": [],
   "source": [
    "import h5py"
   ]
  },
  {
   "cell_type": "code",
   "execution_count": 2,
   "metadata": {},
   "outputs": [],
   "source": [
    "f = h5py.File('VDISC_train.hdf5', 'r')"
   ]
  },
  {
   "cell_type": "code",
   "execution_count": 3,
   "metadata": {},
   "outputs": [
    {
     "data": {
      "text/plain": [
       "['CWE-119', 'CWE-120', 'CWE-469', 'CWE-476', 'CWE-other', 'functionSource']"
      ]
     },
     "execution_count": 3,
     "metadata": {},
     "output_type": "execute_result"
    }
   ],
   "source": [
    "list(f.keys())"
   ]
  },
  {
   "cell_type": "code",
   "execution_count": 4,
   "metadata": {},
   "outputs": [],
   "source": [
    "c119 = f['CWE-119']"
   ]
  },
  {
   "cell_type": "code",
   "execution_count": 5,
   "metadata": {},
   "outputs": [
    {
     "data": {
      "text/plain": [
       "<HDF5 dataset \"CWE-119\": shape (1019471,), type \"|b1\">"
      ]
     },
     "execution_count": 5,
     "metadata": {},
     "output_type": "execute_result"
    }
   ],
   "source": [
    "c119"
   ]
  },
  {
   "cell_type": "code",
   "execution_count": 6,
   "metadata": {},
   "outputs": [
    {
     "data": {
      "text/plain": [
       "(1019471,)"
      ]
     },
     "execution_count": 6,
     "metadata": {},
     "output_type": "execute_result"
    }
   ],
   "source": [
    "c119.shape"
   ]
  },
  {
   "cell_type": "code",
   "execution_count": 7,
   "metadata": {},
   "outputs": [
    {
     "data": {
      "text/plain": [
       "dtype('bool')"
      ]
     },
     "execution_count": 7,
     "metadata": {},
     "output_type": "execute_result"
    }
   ],
   "source": [
    "c119.dtype"
   ]
  },
  {
   "cell_type": "code",
   "execution_count": 8,
   "metadata": {},
   "outputs": [
    {
     "data": {
      "text/plain": [
       "array([False, False, False, ..., False, False, False])"
      ]
     },
     "execution_count": 8,
     "metadata": {},
     "output_type": "execute_result"
    }
   ],
   "source": [
    "c119[:]"
   ]
  },
  {
   "cell_type": "code",
   "execution_count": 9,
   "metadata": {},
   "outputs": [],
   "source": [
    "dset = f['functionSource']"
   ]
  },
  {
   "cell_type": "code",
   "execution_count": 10,
   "metadata": {},
   "outputs": [
    {
     "data": {
      "text/plain": [
       "<HDF5 dataset \"functionSource\": shape (1019471,), type \"|O\">"
      ]
     },
     "execution_count": 10,
     "metadata": {},
     "output_type": "execute_result"
    }
   ],
   "source": [
    "dset"
   ]
  },
  {
   "cell_type": "code",
   "execution_count": 11,
   "metadata": {},
   "outputs": [
    {
     "data": {
      "text/plain": [
       "array(['clear_area(int startx, int starty, int xsize, int ysize)\\n{\\n  int x;\\n\\n  TRACE_LOG(\"Clearing area %d,%d / %d,%d\\\\n\", startx, starty, xsize, ysize);\\n\\n  while (ysize > 0)\\n  {\\n    x = xsize;\\n    while (x > 0)\\n    {\\n      mvaddch(starty + ysize - 2, startx + x - 2, \\' \\');\\n      x--;\\n    }\\n    ysize--;\\n  }\\n}',\n",
       "       'ReconstructDuList(Statement* head)\\n{\\n    Statement* spt;\\n\\n    for (spt = head; spt != NULL; spt = spt->next) {\\n\\tdelete_def_use_list(spt->use_var_list);\\n\\tdelete_def_use_list(spt->def_var_list);\\n\\tdelete_def_use_list(spt->use_array_list);\\n\\tdelete_def_use_list(spt->def_array_list);\\n\\tspt->def_var_list = NULL;\\n\\tspt->use_var_list = NULL;\\n\\tspt->def_array_list = NULL;\\n\\tspt->use_array_list = NULL;\\n    }\\n    def_use_statement(head);\\n}',\n",
       "       'free_speaker(void)\\n{\\n   if(Lengths)\\n       free(Lengths);\\n\\n   if(!audio2fast && commento)\\n       fclose(commento);\\n\\n\\n   frase = NON_DECISA;\\n   game_status = S_NON_INIZIATO;\\n\\n   fondolen = sound[FONDO]->Length;\\n   fondobase = sound[FONDO]->SoundData;\\n\\n   if (audio2fast && comment_file) \\n       free(comment_file);\\n   \\n   Lengths = NULL;\\n   commento = NULL;\\n   comment_file = NULL;\\n}',\n",
       "       ...,\n",
       "       'addrconf6_start (NMDevice *self)\\n{\\n\\tNMDevicePrivate *priv = NM_DEVICE_GET_PRIVATE (self);\\n\\tNMConnection *connection;\\n\\tgboolean success;\\n\\tconst guint8 *hwaddr;\\n\\tguint hwaddr_len = 0;\\n\\n\\tconnection = nm_device_get_connection (self);\\n\\tg_assert (connection);\\n\\n\\tg_warn_if_fail (priv->ac_ip6_config == NULL);\\n\\tif (priv->ac_ip6_config) {\\n\\t\\tg_object_unref (priv->ac_ip6_config);\\n\\t\\tpriv->ac_ip6_config = NULL;\\n\\t}\\n\\n\\tif (!priv->ip6_manager) {\\n\\t\\tpriv->ip6_manager = nm_ip6_manager_get ();\\n\\t\\tpriv->ip6_addrconf_sigid = g_signal_connect (priv->ip6_manager,\\n\\t\\t                                             \"addrconf-complete\",\\n\\t\\t                                             G_CALLBACK (ip6_addrconf_complete),\\n\\t\\t                                             self);\\n\\t\\tpriv->ip6_config_changed_sigid = g_signal_connect (priv->ip6_manager,\\n\\t\\t                                                   \"config-changed\",\\n\\t\\t                                                   G_CALLBACK (ip6_config_changed),\\n\\t\\t                                                   self);\\n\\t}\\n\\n\\thwaddr = nm_device_get_hw_address (self, &hwaddr_len);\\n\\tg_warn_if_fail (hwaddr != NULL);\\n\\tsuccess = nm_ip6_manager_prepare_interface (priv->ip6_manager,\\n\\t                                            nm_device_get_ip_ifindex (self),\\n\\t                                            hwaddr,\\n\\t                                            hwaddr_len,\\n\\t                                            nm_connection_get_setting_ip6_config (connection),\\n\\t                                            priv->ip6_accept_ra_path);\\n\\tif (success) {\\n\\t\\tpriv->ip6_waiting_for_config = TRUE;\\n\\t\\tnm_ip6_manager_begin_addrconf (priv->ip6_manager, nm_device_get_ip_ifindex (self));\\n\\t}\\n\\n\\treturn success;\\n}',\n",
       "       'Next(const SQObjectPtr &refpos, SQObjectPtr &outkey, SQObjectPtr &outval)\\n{\\n\\tSQObjectPtr oval;\\n\\tSQInteger idx = _members->Next(false,refpos,outkey,oval);\\n\\tif(idx != -1) {\\n\\t\\tif(_ismethod(oval)) {\\n\\t\\t\\toutval = _methods[_member_idx(oval)].val;\\n\\t\\t}\\n\\t\\telse {\\n\\t\\t\\tSQObjectPtr &o = _defaultvalues[_member_idx(oval)].val;\\n\\t\\t\\toutval = _realval(o);\\n\\t\\t}\\n\\t}\\n\\treturn idx;\\n}',\n",
       "       'EffectHealMaxHealth(SpellEffectIndex /*eff_idx*/)\\n{\\n    if (!unitTarget)\\n        { return; }\\n    if (!unitTarget->IsAlive())\\n        { return; }\\n\\n    uint32 heal = m_caster->GetMaxHealth();\\n\\n    m_healing += heal;\\n}'],\n",
       "      dtype=object)"
      ]
     },
     "execution_count": 11,
     "metadata": {},
     "output_type": "execute_result"
    }
   ],
   "source": [
    "for i in range(5)\n",
    "    for k in f.keys()\n",
    "        #with open(f\"{i}\") as file:\n",
    "        print(dset[i])"
   ]
  },
  {
   "cell_type": "code",
   "execution_count": null,
   "metadata": {},
   "outputs": [],
   "source": []
  }
 ],
 "metadata": {
  "kernelspec": {
   "display_name": "Python 3",
   "language": "python",
   "name": "python3"
  },
  "language_info": {
   "codemirror_mode": {
    "name": "ipython",
    "version": 3
   },
   "file_extension": ".py",
   "mimetype": "text/x-python",
   "name": "python",
   "nbconvert_exporter": "python",
   "pygments_lexer": "ipython3",
   "version": "3.7.3"
  }
 },
 "nbformat": 4,
 "nbformat_minor": 2
}
