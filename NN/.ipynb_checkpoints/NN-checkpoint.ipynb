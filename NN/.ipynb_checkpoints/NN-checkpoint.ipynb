{
 "cells": [
  {
   "cell_type": "code",
   "execution_count": 45,
   "metadata": {},
   "outputs": [],
   "source": [
    "import torch\n",
    "import torch.nn as nn\n",
    "import torch.nn.functional as F\n",
    "import pandas as pd\n",
    "from sklearn.model_selection import train_test_split\n",
    "import matplotlib.pyplot as plt\n",
    "%matplotlib inline"
   ]
  },
  {
   "cell_type": "code",
   "execution_count": 46,
   "metadata": {},
   "outputs": [],
   "source": [
    "torch.manual_seed(32)\n",
    "df = pd.read_csv('./Data/data_ex_labeled.csv')\n",
    "test = df[81000:-1] # test set\n",
    "df = df[:80000] # training set"
   ]
  },
  {
   "cell_type": "code",
   "execution_count": 47,
   "metadata": {},
   "outputs": [],
   "source": [
    "X_A = df[['store_A','put_A','wrtmp_A','loadg_A','storeg_A','cas_A','sucessors_A','predecessors_A']]\n",
    "X_B = df[['store_B','put_B','wrtmp_B','loadg_B','storeg_B','cas_B','sucessors_B','predecessors_B']]\n",
    "Y = df['output']"
   ]
  },
  {
   "cell_type": "code",
   "execution_count": 48,
   "metadata": {},
   "outputs": [],
   "source": [
    "X_A_val = X_A.values\n",
    "X_B_val = X_B.values\n",
    "Y_val = Y.values"
   ]
  },
  {
   "cell_type": "code",
   "execution_count": 49,
   "metadata": {},
   "outputs": [],
   "source": [
    "X_A_val = torch.FloatTensor(X_A_val)\n",
    "X_B_val = torch.FloatTensor(X_B_val)\n",
    "Y_val = torch.FloatTensor(Y_val)"
   ]
  },
  {
   "cell_type": "code",
   "execution_count": 50,
   "metadata": {},
   "outputs": [],
   "source": [
    "class Model(nn.Module):\n",
    "    def __init__(self, ins=8, h1=15, h2=10, outs=8):\n",
    "        super().__init__()\n",
    "        self.fc1 = nn.Linear(ins,h1)    # input layer\n",
    "        self.fc2 = nn.Linear(h1, h2)    # hidden layer\n",
    "        self.out = nn.Linear(h2, outs)  # output layer\n",
    "        \n",
    "    def forward(self, x):\n",
    "        x = F.relu(self.fc1(x))\n",
    "        x = F.relu(self.fc2(x))\n",
    "        x = self.out(x)\n",
    "        return x"
   ]
  },
  {
   "cell_type": "code",
   "execution_count": 51,
   "metadata": {},
   "outputs": [],
   "source": [
    "model = Model()"
   ]
  },
  {
   "cell_type": "code",
   "execution_count": 52,
   "metadata": {},
   "outputs": [],
   "source": [
    "optimizer = torch.optim.Adam(model.parameters(), lr=0.001)"
   ]
  },
  {
   "cell_type": "code",
   "execution_count": null,
   "metadata": {},
   "outputs": [],
   "source": []
  },
  {
   "cell_type": "code",
   "execution_count": 53,
   "metadata": {},
   "outputs": [
    {
     "name": "stdout",
     "output_type": "stream",
     "text": [
      "epoch 0: 9.850562037172494e-07\n",
      "epoch 5: 3.816619482677197e-07\n",
      "epoch 10: 2.610370586353383e-07\n",
      "epoch 15: 1.666188182980477e-07\n",
      "epoch 20: 1.3393312769949262e-07\n",
      "epoch 25: 1.069582964419169e-07\n",
      "epoch 30: 8.70756835524844e-08\n",
      "epoch 35: 7.482990582730054e-08\n",
      "epoch 40: 6.598457957807113e-08\n",
      "epoch 45: 5.8204680186690894e-08\n"
     ]
    }
   ],
   "source": [
    "# EPOCHS ?\n",
    "# An epoch, 1 run through all the training data\n",
    "\n",
    "epochs = 50\n",
    "losses = []\n",
    "#cos = nn.CosineSimilarity(dim=1, eps=1e-6)\n",
    "loss = torch.nn.CosineEmbeddingLoss()\n",
    "\n",
    "for i in range(epochs):\n",
    "    # Forward and get a prediction\n",
    "    \n",
    "    X_A_out = model.forward(X_A_val)\n",
    "    X_B_out = model.forward(X_B_val)\n",
    "    \n",
    "    output = loss(X_A_out, X_B_out, Y_val)\n",
    "\n",
    "    #Calculate loss/error\n",
    "    losses.append(output)\n",
    "    \n",
    "    if i%5==0:\n",
    "        print(f'epoch {i}: {output}')\n",
    "    \n",
    "    optimizer.zero_grad()\n",
    "    output.backward()\n",
    "    optimizer.step()\n",
    "    "
   ]
  },
  {
   "cell_type": "code",
   "execution_count": 54,
   "metadata": {},
   "outputs": [
    {
     "data": {
      "text/plain": [
       "Text(0.5, 0, 'Epoch')"
      ]
     },
     "execution_count": 54,
     "metadata": {},
     "output_type": "execute_result"
    },
    {
     "data": {
      "image/png": "[encoded data removed]",
      "text/plain": [
       "<Figure size 432x288 with 1 Axes>"
      ]
     },
     "metadata": {
      "needs_background": "light"
     },
     "output_type": "display_data"
    }
   ],
   "source": [
    "plt.plot(range(epochs), losses)\n",
    "plt.ylabel('LOSS')\n",
    "plt.xlabel('Epoch')"
   ]
  },
  {
   "cell_type": "code",
   "execution_count": 55,
   "metadata": {
    "scrolled": true
   },
   "outputs": [
    {
     "name": "stdout",
     "output_type": "stream",
     "text": [
      "tensor([-143.6719, -394.1957,  163.0492, -298.5366, -568.8975, -540.5271,\n",
      "         540.2806, -105.6236], grad_fn=<AddBackward0>) tensor([ -76.8249, -218.3799,   90.7329, -160.1752, -310.5161, -297.1204,\n",
      "         295.7762,  -57.7033], grad_fn=<AddBackward0>)\n",
      "tensor(1.0000, grad_fn=<DivBackward0>)\n",
      "tensor(0)\n"
     ]
    }
   ],
   "source": [
    "test_A = torch.FloatTensor(test[['store_A','put_A','wrtmp_A','loadg_A','storeg_A','cas_A','sucessors_A','predecessors_A']].values)\n",
    "test_B = torch.FloatTensor(test[['store_B','put_B','wrtmp_B','loadg_B','storeg_B','cas_B','sucessors_B','predecessors_B']].values)\n",
    "test_val = torch.LongTensor(test['output'].values)\n",
    "test_A[0]\n",
    "A_val = model.forward(test_A[0])\n",
    "B_val = model.forward(test_B[0])\n",
    "cos_s = nn.CosineSimilarity(dim=0, eps=1e-8)\n",
    "print(A_val, B_val)\n",
    "o = cos_s(A_val, B_val)\n",
    "print(o)\n",
    "print(test_val[0])\n",
    "# with torch.no_grad():\n",
    "#     eval_A = model.forward(test_A)\n",
    "#     eval_B = model.forward(test_B)\n",
    "#     loss = loss(eval_A, eval_B, test_val)"
   ]
  },
  {
   "cell_type": "code",
   "execution_count": 56,
   "metadata": {},
   "outputs": [
    {
     "name": "stdout",
     "output_type": "stream",
     "text": [
      "tensor([-206.5655, -583.2387,  242.3821, -429.2887, -831.5807, -794.9200,\n",
      "         791.7532, -154.3141]) \n",
      " tensor([-241.8881, -678.9285,  281.9270, -502.4679, -970.4220, -926.5326,\n",
      "         923.4795, -180.0608]) \n",
      " 0.9999989867210388\n",
      "tensor([-137.3650, -376.5200,  155.7062, -285.4562, -543.6180, -516.3934,\n",
      "         516.2255, -100.9364]) \n",
      " tensor([-108.5253, -300.3394,  124.3499, -225.7550, -431.8725, -411.0278,\n",
      "         410.4412,  -80.2121]) \n",
      " 0.9999974966049194\n"
     ]
    }
   ],
   "source": [
    "'''\n",
    "    gcc_coreutils8.31_O2_chown,2819,18959,30284,0,0,0,4757,4757,\n",
    "    gcc_coreutils8.31_O0_chown,3367,18956,34256,0,0,0,4851,4851,\n",
    "    1\n",
    "    \n",
    "    gcc_coreutils8.31_O3_chroot,3182,17628,23406,0,0,0,3342,3342,\n",
    "    gcc_coreutils8.31_O0_mknod,1801,9061,16011,0,0,0,2143,2143,\n",
    "    0\n",
    "    \n",
    "''' \n",
    "cos_s = nn.CosineSimilarity(dim=0, eps=1e-8)\n",
    "test_data_clone = torch.Tensor([[2819, 18959, 30284, 0, 0, 0, 4757, 4757], [3367,18956,34256,0,0,0,4851,4851]])\n",
    "test_data_not_clone = torch.Tensor([[3182,17628,23406,0,0,0,3342,3342], [1801,9061,16011,0,0,0,2143,2143]])\n",
    "\n",
    "with torch.no_grad():\n",
    "    clone_output_A = model.forward(test_data_clone[0])\n",
    "    clone_output_B = model.forward(test_data_clone[1])\n",
    "    clone_output = cos_s(clone_output_A, clone_output_B)\n",
    "    print(f'{clone_output_A} \\n {clone_output_B} \\n {clone_output}')\n",
    "\n",
    "\n",
    "    not_clone_output_A = model.forward(test_data_not_clone[0])\n",
    "    not_clone_output_B = model.forward(test_data_not_clone[1])\n",
    "    not_clone_output = cos_s(not_clone_output_A, not_clone_output_B)\n",
    "    print(f'{not_clone_output_A} \\n {not_clone_output_B} \\n {not_clone_output}')"
   ]
  },
  {
   "cell_type": "code",
   "execution_count": 57,
   "metadata": {},
   "outputs": [
    {
     "name": "stdout",
     "output_type": "stream",
     "text": [
      "<generator object Module.parameters at 0x7fcfa1f5ee58>\n",
      "tensor([[ 0.2656, -0.1612, -0.0608,  0.2020, -0.2737,  0.0561,  0.1047, -0.3374],\n",
      "        [ 0.0740, -0.1245,  0.3212,  0.0155,  0.2674,  0.1594,  0.1380, -0.3337],\n",
      "        [ 0.2910, -0.3042,  0.1378,  0.1606, -0.0023,  0.3046, -0.1083, -0.2234],\n",
      "        [ 0.1164, -0.0787, -0.2979, -0.2513, -0.2257,  0.1018, -0.2472,  0.1612],\n",
      "        [ 0.2679, -0.1334,  0.2104,  0.0074,  0.2254, -0.0446, -0.2078,  0.2803],\n",
      "        [-0.2050,  0.0802,  0.2049, -0.2559, -0.3214,  0.1976, -0.3475, -0.2620],\n",
      "        [ 0.1484, -0.1373,  0.2292, -0.0764,  0.0569, -0.1953,  0.0511, -0.3453],\n",
      "        [-0.2689, -0.2716,  0.0416, -0.0628,  0.3519,  0.0132,  0.3048, -0.2101],\n",
      "        [ 0.0755, -0.0588,  0.3173,  0.1180,  0.0254, -0.2260, -0.3011, -0.1137],\n",
      "        [ 0.1822, -0.1912, -0.1485, -0.3094,  0.3335,  0.3195, -0.2034,  0.0114],\n",
      "        [-0.0197,  0.0627, -0.2298, -0.2206, -0.0519, -0.2718,  0.0394, -0.1808],\n",
      "        [-0.2795, -0.0174, -0.1481,  0.1461,  0.2875, -0.2088, -0.1105, -0.0624],\n",
      "        [-0.3500, -0.3533,  0.1291, -0.0229, -0.1807,  0.3378, -0.3591,  0.3057],\n",
      "        [-0.3221, -0.1995,  0.2076, -0.0895, -0.1062, -0.2413,  0.1204,  0.2974],\n",
      "        [ 0.1241,  0.3556, -0.2712, -0.2912, -0.2119, -0.0359,  0.0707,  0.0162]])\n",
      "tensor([ 0.0421, -0.2287, -0.0918,  0.0290,  0.1009, -0.2380,  0.2403, -0.0273,\n",
      "         0.1317,  0.3195,  0.1868,  0.1395, -0.1324, -0.2491,  0.1243])\n",
      "tensor([[ 0.2106,  0.1383,  0.0211,  0.2138, -0.0920, -0.1043, -0.1135, -0.1377,\n",
      "         -0.0115, -0.2494,  0.1830, -0.2580, -0.1227,  0.1025, -0.0144],\n",
      "        [-0.1063, -0.2315,  0.1532,  0.2429,  0.0196, -0.1016, -0.0602, -0.1927,\n",
      "          0.0738,  0.1076, -0.0527, -0.1269,  0.1347, -0.0325,  0.0952],\n",
      "        [ 0.0514,  0.1603, -0.1219, -0.2308,  0.0033, -0.2318, -0.2548,  0.1906,\n",
      "         -0.0364,  0.1750,  0.1160,  0.2179,  0.0485,  0.2198, -0.1067],\n",
      "        [-0.1614, -0.0131, -0.0585,  0.1512, -0.0348,  0.0298, -0.1246, -0.2001,\n",
      "          0.0942, -0.1282,  0.2392,  0.2359, -0.2271, -0.1076, -0.1600],\n",
      "        [ 0.2579, -0.1324,  0.2439,  0.2050, -0.0356, -0.0766,  0.1896, -0.0403,\n",
      "         -0.0373,  0.0466, -0.2407, -0.0105,  0.1345, -0.1065, -0.0254],\n",
      "        [-0.1596, -0.0370,  0.1285, -0.0137, -0.1880,  0.0568, -0.1917,  0.2272,\n",
      "          0.1023,  0.0224, -0.2019,  0.2505, -0.2498, -0.0108, -0.2127],\n",
      "        [-0.2136,  0.0763,  0.1612,  0.0925,  0.2492, -0.0086, -0.1812,  0.0594,\n",
      "         -0.0131,  0.0348, -0.0240, -0.2334, -0.0931,  0.2617,  0.1447],\n",
      "        [ 0.2149,  0.0698,  0.2199,  0.0470,  0.0263, -0.0339, -0.1063,  0.1485,\n",
      "         -0.1770, -0.0715,  0.1261, -0.0219, -0.1585, -0.0458,  0.1054],\n",
      "        [-0.0884,  0.1893, -0.1885,  0.2111,  0.0043,  0.1712, -0.0543,  0.1156,\n",
      "         -0.2228, -0.0764,  0.0607,  0.1040, -0.2404,  0.2087,  0.1156],\n",
      "        [ 0.1196, -0.1308,  0.2196, -0.1036,  0.1200, -0.2071, -0.0137,  0.0870,\n",
      "         -0.2536, -0.0765, -0.1185,  0.0061, -0.1212,  0.0393,  0.1304]])\n",
      "tensor([ 0.0614, -0.1871, -0.1072,  0.0226,  0.1560, -0.2277, -0.2377, -0.2209,\n",
      "        -0.1027,  0.1071])\n",
      "tensor([[ 0.2075,  0.2155,  0.1914, -0.0317, -0.0419,  0.2547, -0.1217,  0.0853,\n",
      "          0.0277, -0.1509],\n",
      "        [-0.0831, -0.1762,  0.2661,  0.2476,  0.2913,  0.1179, -0.1539,  0.0847,\n",
      "         -0.2646,  0.2383],\n",
      "        [ 0.0750,  0.2568,  0.1937,  0.2350, -0.0531, -0.0194,  0.0522, -0.1502,\n",
      "          0.1313, -0.2338],\n",
      "        [ 0.1793, -0.2890,  0.1509,  0.2679, -0.1489, -0.1725, -0.2479,  0.0257,\n",
      "          0.0492,  0.2199],\n",
      "        [ 0.0498, -0.2736, -0.3018, -0.2774, -0.2615, -0.1903, -0.3327, -0.2381,\n",
      "         -0.1725,  0.0125],\n",
      "        [ 0.2102,  0.0622,  0.0713, -0.2476,  0.1513,  0.0620, -0.2646, -0.1304,\n",
      "         -0.2616, -0.1841],\n",
      "        [ 0.1310,  0.0433, -0.3023,  0.2297, -0.0953,  0.0935,  0.2945, -0.1739,\n",
      "          0.2047, -0.0694],\n",
      "        [ 0.1185,  0.2409, -0.1098, -0.1452, -0.2543, -0.1374, -0.0619, -0.2106,\n",
      "         -0.0316,  0.0013]])\n",
      "tensor([ 0.2776, -0.2924,  0.0089, -0.2151,  0.1866,  0.0652, -0.1156, -0.0972])\n"
     ]
    }
   ],
   "source": [
    "print(model.parameters())\n",
    "for param in model.parameters():\n",
    "    print(param.data)"
   ]
  },
  {
   "cell_type": "code",
   "execution_count": null,
   "metadata": {},
   "outputs": [],
   "source": []
  },
  {
   "cell_type": "code",
   "execution_count": null,
   "metadata": {},
   "outputs": [],
   "source": []
  }
 ],
 "metadata": {
  "kernelspec": {
   "display_name": "Python 3",
   "language": "python",
   "name": "python3"
  },
  "language_info": {
   "codemirror_mode": {
    "name": "ipython",
    "version": 3
   },
   "file_extension": ".py",
   "mimetype": "text/x-python",
   "name": "python",
   "nbconvert_exporter": "python",
   "pygments_lexer": "ipython3",
   "version": "3.7.3"
  }
 },
 "nbformat": 4,
 "nbformat_minor": 2
}
