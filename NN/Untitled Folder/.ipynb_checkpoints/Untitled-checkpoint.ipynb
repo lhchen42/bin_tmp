{
 "cells": [
  {
   "cell_type": "code",
   "execution_count": 1,
   "metadata": {},
   "outputs": [],
   "source": [
    "import pyvex\n",
    "import archinfo"
   ]
  },
  {
   "cell_type": "code",
   "execution_count": 9,
   "metadata": {},
   "outputs": [
    {
     "name": "stdout",
     "output_type": "stream",
     "text": [
      "IRSB {\n",
      "   t0:Ity_I32 t1:Ity_I32 t2:Ity_I32 t3:Ity_I32 t4:Ity_I32 t5:Ity_I32 t6:Ity_I32 t7:Ity_I32 t8:Ity_I32\n",
      "\n",
      "   00 | ------ IMark(0x400400, 1, 0) ------\n",
      "   01 | t2 = GET:I32(eax)\n",
      "   02 | t1 = Sub32(t2,0x00000001)\n",
      "   03 | t3 = GET:I32(cc_op)\n",
      "   04 | t4 = GET:I32(cc_dep1)\n",
      "   05 | t5 = GET:I32(cc_dep2)\n",
      "   06 | t6 = GET:I32(cc_ndep)\n",
      "   07 | t7 = x86g_calculate_eflags_c(t3,t4,t5,t6):Ity_I32\n",
      "   08 | PUT(cc_ndep) = t7\n",
      "   09 | PUT(cc_op) = 0x00000015\n",
      "   10 | PUT(cc_dep1) = t1\n",
      "   11 | PUT(cc_dep2) = 0x00000000\n",
      "   12 | ------ IMark(0x400401, 6, 0) ------\n",
      "   13 | PUT(eax) = 0x00000001\n",
      "   NEXT: PUT(eip) = 0x00400407; Ijk_Boring\n",
      "}\n"
     ]
    }
   ],
   "source": [
    "# translate an AMD64 basic block (of nops) at 0x400400 into VEX\n",
    "#irsb = pyvex.lift(b\"\\x48\\xC7\\xC0\\x01\\x00\\x00\\x00\", 0x400400, archinfo.ArchX86())\n",
    "irsb = pyvex.lift(b\"48 89 04 25 01 00 00\", 0x400400, archinfo.ArchX86())\n",
    "# 48 89 04 25 01 00 00\n",
    "# pretty-print the basic block\n",
    "irsb.pp()"
   ]
  },
  {
   "cell_type": "code",
   "execution_count": null,
   "metadata": {},
   "outputs": [],
   "source": [
    "pyvex.lift()"
   ]
  }
 ],
 "metadata": {
  "kernelspec": {
   "display_name": "Python 3",
   "language": "python",
   "name": "python3"
  },
  "language_info": {
   "codemirror_mode": {
    "name": "ipython",
    "version": 3
   },
   "file_extension": ".py",
   "mimetype": "text/x-python",
   "name": "python",
   "nbconvert_exporter": "python",
   "pygments_lexer": "ipython3",
   "version": "3.7.3"
  }
 },
 "nbformat": 4,
 "nbformat_minor": 2
}
