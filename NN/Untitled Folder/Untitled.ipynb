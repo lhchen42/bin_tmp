{
 "cells": [
  {
   "cell_type": "code",
   "execution_count": 7,
   "metadata": {},
   "outputs": [
    {
     "name": "stderr",
     "output_type": "stream",
     "text": [
      "/home/cin/anaconda3/envs/pytorchenv/lib/python3.7/site-packages/pysmt/walkers/generic.py:43: DeprecationWarning: Using or importing the ABCs from 'collections' instead of from 'collections.abc' is deprecated, and in 3.8 it will stop working\n",
      "  if len(nodetypes) == 1 and isinstance(nodetypes[0], collections.Iterable):\n"
     ]
    }
   ],
   "source": [
    "import pyvex\n",
    "import archinfo\n",
    "import angr"
   ]
  },
  {
   "cell_type": "code",
   "execution_count": 25,
   "metadata": {},
   "outputs": [
    {
     "name": "stdout",
     "output_type": "stream",
     "text": [
      "IRSB {\n",
      "   t0:Ity_I32 t1:Ity_I32 t2:Ity_I32 t3:Ity_I32 t4:Ity_I32 t5:Ity_I32 t6:Ity_I32 t7:Ity_I32 t8:Ity_I32\n",
      "\n",
      "   00 | ------ IMark(0x400400, 1, 0) ------\n",
      "   01 | t2 = GET:I32(eax)\n",
      "   02 | t1 = Sub32(t2,0x00000001)\n",
      "   03 | t3 = GET:I32(cc_op)\n",
      "   04 | t4 = GET:I32(cc_dep1)\n",
      "   05 | t5 = GET:I32(cc_dep2)\n",
      "   06 | t6 = GET:I32(cc_ndep)\n",
      "   07 | t7 = x86g_calculate_eflags_c(t3,t4,t5,t6):Ity_I32\n",
      "   08 | PUT(cc_ndep) = t7\n",
      "   09 | PUT(cc_op) = 0x00000015\n",
      "   10 | PUT(cc_dep1) = t1\n",
      "   11 | PUT(cc_dep2) = 0x00000000\n",
      "   12 | ------ IMark(0x400401, 6, 0) ------\n",
      "   13 | PUT(eax) = 0x00000001\n",
      "   NEXT: PUT(eip) = 0x00400407; Ijk_Boring\n",
      "}\n",
      "IRSB {\n",
      "   t0:Ity_I32 t1:Ity_I32 t2:Ity_I32 t3:Ity_I32 t4:Ity_I32 t5:Ity_I32 t6:Ity_I32 t7:Ity_I32 t8:Ity_I32 t9:Ity_I32\n",
      "\n",
      "   00 | ------ IMark(0x400800, 1, 0) ------\n",
      "   01 | t3 = GET:I32(eax)\n",
      "   02 | t2 = Sub32(t3,0x00000001)\n",
      "   03 | t4 = GET:I32(cc_op)\n",
      "   04 | t5 = GET:I32(cc_dep1)\n",
      "   05 | t6 = GET:I32(cc_dep2)\n",
      "   06 | t7 = GET:I32(cc_ndep)\n",
      "   07 | t8 = x86g_calculate_eflags_c(t4,t5,t6,t7):Ity_I32\n",
      "   08 | PUT(cc_ndep) = t8\n",
      "   09 | PUT(cc_op) = 0x00000015\n",
      "   10 | PUT(cc_dep1) = t2\n",
      "   11 | PUT(cc_dep2) = 0x00000000\n",
      "   12 | PUT(eax) = t2\n",
      "   NEXT: PUT(eip) = 0x00400801; Ijk_Boring\n",
      "}\n",
      "IRSB {\n",
      "   t0:Ity_I8 t1:Ity_I8 t2:Ity_I8 t3:Ity_I8 t4:Ity_I8 t5:Ity_I8 t6:Ity_I32 t7:Ity_I8 t8:Ity_I8 t9:Ity_I8 t10:Ity_I32 t11:Ity_I32 t12:Ity_I32 t13:Ity_I32 t14:Ity_I8 t15:Ity_I8 t16:Ity_I8 t17:Ity_I32 t18:Ity_I32 t19:Ity_I32 t20:Ity_I32 t21:Ity_I32 t22:Ity_I32 t23:Ity_I32 t24:Ity_I32 t25:Ity_I32 t26:Ity_I32 t27:Ity_I32\n",
      "\n",
      "   00 | ------ IMark(0x400000, 2, 0) ------\n",
      "   01 | t0 = GET:I8(al)\n",
      "   02 | t2 = Xor8(t0,0x38)\n",
      "   03 | PUT(al) = t2\n",
      "   04 | PUT(eip) = 0x00400002\n",
      "   05 | ------ IMark(0x400002, 2, 0) ------\n",
      "   06 | PUT(eip) = 0x00400004\n",
      "   07 | ------ IMark(0x400004, 3, 0) ------\n",
      "   08 | t23 = GET:I32(esi)\n",
      "   09 | t24 = GET:I32(edx)\n",
      "   10 | t21 = Add32(t24,t23)\n",
      "   11 | t9 = LDle:I8(t21)\n",
      "   12 | t8 = GET:I8(dh)\n",
      "   13 | t7 = Xor8(t9,t8)\n",
      "   14 | STle(t21) = t7\n",
      "   15 | ------ IMark(0x400007, 5, 0) ------\n",
      "   16 | t11 = GET:I32(eax)\n",
      "   17 | t13 = Xor32(t11,0x30303130)\n",
      "   18 | PUT(eax) = t13\n",
      "   19 | PUT(eip) = 0x0040000c\n",
      "   20 | ------ IMark(0x40000c, 2, 0) ------\n",
      "   21 | t16 = LDle:I8(t13)\n",
      "   22 | t14 = Xor8(t16,t8)\n",
      "   23 | STle(t13) = t14\n",
      "   24 | PUT(cc_op) = 0x0000000d\n",
      "   25 | t26 = 8Uto32(t14)\n",
      "   26 | PUT(cc_dep1) = t26\n",
      "   27 | PUT(cc_dep2) = 0x00000000\n",
      "   28 | PUT(cc_ndep) = 0x00000000\n",
      "   NEXT: PUT(eip) = 0x0040000e; Ijk_Boring\n",
      "}\n"
     ]
    }
   ],
   "source": [
    "# translate an AMD64 basic block (of nops) at 0x400400 into VEX\n",
    "# hax = [\"\\x\"+x for x in [\"48\",\"89\",\"04\",\"25\",\"01\",\"00\",\"00\"]]\n",
    "# print(hax)\n",
    "#irsb = pyvex.lift(b\"\\x48\\xC7\\xC0\\x01\\x00\\x00\\x00\", 0x400400, archinfo.ArchX86())\n",
    "irsb = pyvex.lift(b\"\\x48\\xC7\\xC0\\x01\\x00\\x00\\x00\", 0x400400, archinfo.ArchX86())\n",
    "irsb_1 = pyvex.lift(b\"\\x48\\x89\\x04\\x25\\x01\\x00\\x00\", 0x400800, archinfo.ArchX86())\n",
    "irsb_2 = pyvex.lift(b\"48890425010000\", 0x400000, archinfo.ArchX86())\n",
    "# 48 89 04 25 01 00 00\n",
    "\n",
    "# pretty-print the basic block\n",
    "irsb.pp()\n",
    "irsb_1.pp()\n",
    "irsb_2.pp()"
   ]
  },
  {
   "cell_type": "code",
   "execution_count": 22,
   "metadata": {},
   "outputs": [
    {
     "ename": "AttributeError",
     "evalue": "'str' object has no attribute 'address'",
     "output_type": "error",
     "traceback": [
      "\u001b[0;31m---------------------------------------------------------------------------\u001b[0m",
      "\u001b[0;31mAttributeError\u001b[0m                            Traceback (most recent call last)",
      "\u001b[0;32m<ipython-input-22-42a3d4762a5e>\u001b[0m in \u001b[0;36m<module>\u001b[0;34m\u001b[0m\n\u001b[0;32m----> 1\u001b[0;31m \u001b[0mins\u001b[0m \u001b[0;34m=\u001b[0m \u001b[0mangr\u001b[0m\u001b[0;34m.\u001b[0m\u001b[0manalyses\u001b[0m\u001b[0;34m.\u001b[0m\u001b[0mdisassembly\u001b[0m\u001b[0;34m.\u001b[0m\u001b[0mInstruction\u001b[0m\u001b[0;34m(\u001b[0m\u001b[0;34m\"123\"\u001b[0m\u001b[0;34m,\u001b[0m \u001b[0mirsb\u001b[0m\u001b[0;34m)\u001b[0m\u001b[0;34m\u001b[0m\u001b[0;34m\u001b[0m\u001b[0m\n\u001b[0m",
      "\u001b[0;32m~/anaconda3/envs/pytorchenv/lib/python3.7/site-packages/angr/analyses/disassembly.py\u001b[0m in \u001b[0;36m__init__\u001b[0;34m(self, insn, parentblock)\u001b[0m\n\u001b[1;32m    123\u001b[0m \u001b[0;32mclass\u001b[0m \u001b[0mInstruction\u001b[0m\u001b[0;34m(\u001b[0m\u001b[0mDisassemblyPiece\u001b[0m\u001b[0;34m)\u001b[0m\u001b[0;34m:\u001b[0m\u001b[0;34m\u001b[0m\u001b[0;34m\u001b[0m\u001b[0m\n\u001b[1;32m    124\u001b[0m     \u001b[0;32mdef\u001b[0m \u001b[0m__init__\u001b[0m\u001b[0;34m(\u001b[0m\u001b[0mself\u001b[0m\u001b[0;34m,\u001b[0m \u001b[0minsn\u001b[0m\u001b[0;34m,\u001b[0m \u001b[0mparentblock\u001b[0m\u001b[0;34m)\u001b[0m\u001b[0;34m:\u001b[0m\u001b[0;34m\u001b[0m\u001b[0;34m\u001b[0m\u001b[0m\n\u001b[0;32m--> 125\u001b[0;31m         \u001b[0mself\u001b[0m\u001b[0;34m.\u001b[0m\u001b[0maddr\u001b[0m \u001b[0;34m=\u001b[0m \u001b[0minsn\u001b[0m\u001b[0;34m.\u001b[0m\u001b[0maddress\u001b[0m\u001b[0;34m\u001b[0m\u001b[0;34m\u001b[0m\u001b[0m\n\u001b[0m\u001b[1;32m    126\u001b[0m         \u001b[0mself\u001b[0m\u001b[0;34m.\u001b[0m\u001b[0msize\u001b[0m \u001b[0;34m=\u001b[0m \u001b[0minsn\u001b[0m\u001b[0;34m.\u001b[0m\u001b[0msize\u001b[0m\u001b[0;34m\u001b[0m\u001b[0;34m\u001b[0m\u001b[0m\n\u001b[1;32m    127\u001b[0m         \u001b[0mself\u001b[0m\u001b[0;34m.\u001b[0m\u001b[0minsn\u001b[0m \u001b[0;34m=\u001b[0m \u001b[0minsn\u001b[0m\u001b[0;34m\u001b[0m\u001b[0;34m\u001b[0m\u001b[0m\n",
      "\u001b[0;31mAttributeError\u001b[0m: 'str' object has no attribute 'address'"
     ]
    }
   ],
   "source": []
  },
  {
   "cell_type": "code",
   "execution_count": null,
   "metadata": {},
   "outputs": [],
   "source": []
  }
 ],
 "metadata": {
  "kernelspec": {
   "display_name": "Python 3",
   "language": "python",
   "name": "python3"
  },
  "language_info": {
   "codemirror_mode": {
    "name": "ipython",
    "version": 3
   },
   "file_extension": ".py",
   "mimetype": "text/x-python",
   "name": "python",
   "nbconvert_exporter": "python",
   "pygments_lexer": "ipython3",
   "version": "3.7.3"
  }
 },
 "nbformat": 4,
 "nbformat_minor": 2
}
