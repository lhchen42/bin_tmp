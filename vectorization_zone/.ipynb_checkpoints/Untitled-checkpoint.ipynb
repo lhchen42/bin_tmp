{
 "cells": [
  {
   "cell_type": "code",
   "execution_count": 1,
   "metadata": {},
   "outputs": [],
   "source": [
    "import numpy as np\n",
    "import pandas as pd"
   ]
  },
  {
   "cell_type": "code",
   "execution_count": 6,
   "metadata": {},
   "outputs": [],
   "source": [
    "df = pd.read_csv(\"./data.csv\")"
   ]
  },
  {
   "cell_type": "code",
   "execution_count": 10,
   "metadata": {},
   "outputs": [
    {
     "name": "stdout",
     "output_type": "stream",
     "text": [
      "0 filename        gcc_coreutils8.31_O2_chown\n",
      "store                                 2819\n",
      "put                                  18959\n",
      "wrtmp                                30284\n",
      "loadg                                    0\n",
      "storeg                                   0\n",
      "cas                                      0\n",
      "sucessors                             4757\n",
      "predecessors                          4757\n",
      "Name: 0, dtype: object\n",
      "1 filename        gcc_coreutils8.31_O3_users\n",
      "store                                 2874\n",
      "put                                  15613\n",
      "wrtmp                                20126\n",
      "loadg                                    0\n",
      "storeg                                   0\n",
      "cas                                      0\n",
      "sucessors                             2682\n",
      "predecessors                          2682\n",
      "Name: 1, dtype: object\n",
      "2 filename        gcc_coreutils8.31_O1_tsort\n",
      "store                                 1365\n",
      "put                                   7281\n",
      "wrtmp                                12269\n",
      "loadg                                    0\n",
      "storeg                                   0\n",
      "cas                                      0\n",
      "sucessors                             1879\n",
      "predecessors                          1879\n",
      "Name: 2, dtype: object\n",
      "3 filename        gcc_coreutils8.31_O1_nice\n",
      "store                                1116\n",
      "put                                  6156\n",
      "wrtmp                               10512\n",
      "loadg                                   0\n",
      "storeg                                  0\n",
      "cas                                     0\n",
      "sucessors                            1588\n",
      "predecessors                         1588\n",
      "Name: 3, dtype: object\n",
      "4 filename        gcc_coreutils8.31_O1_true\n",
      "store                                 997\n",
      "put                                  5372\n",
      "wrtmp                                9066\n",
      "loadg                                   0\n",
      "storeg                                  0\n",
      "cas                                     0\n",
      "sucessors                            1332\n",
      "predecessors                         1332\n",
      "Name: 4, dtype: object\n"
     ]
    }
   ],
   "source": [
    "for index, row in df.head(n=5).iterrows():\n",
    "     print(index, row)\n",
    "     print(row.next())"
   ]
  },
  {
   "cell_type": "code",
   "execution_count": null,
   "metadata": {},
   "outputs": [],
   "source": []
  }
 ],
 "metadata": {
  "kernelspec": {
   "display_name": "Python 3",
   "language": "python",
   "name": "python3"
  },
  "language_info": {
   "codemirror_mode": {
    "name": "ipython",
    "version": 3
   },
   "file_extension": ".py",
   "mimetype": "text/x-python",
   "name": "python",
   "nbconvert_exporter": "python",
   "pygments_lexer": "ipython3",
   "version": "3.7.3"
  }
 },
 "nbformat": 4,
 "nbformat_minor": 2
}
